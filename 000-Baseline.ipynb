{
 "cells": [
  {
   "cell_type": "markdown",
   "metadata": {},
   "source": [
    "## Run #0 - Baseline Case"
   ]
  },
  {
   "cell_type": "code",
   "execution_count": 14,
   "metadata": {},
   "outputs": [],
   "source": [
    "# dependencies\n",
    "\n",
    "import pandas as pd\n",
    "import numpy as np\n",
    "from matplotlib import pyplot as plt\n",
    "from pulp import *\n",
    "\n",
    "# data inputs\n",
    "# load time series data\n",
    "data = pd.read_csv('./all-series.csv')\n",
    "data = data.drop(data.columns[168:])\n",
    "\n",
    "data = data.set_index('Hour', drop=True)\n",
    "sma = data['Consumption Sma (kWh/h)'] * 1.2              # time series with electricity consumption\n",
    "saft = data['Consumption Saft (kWh/h)'] * 1.05\n",
    "oe_cons = data['DH plant Consumption (kWh/h)'] * 1.05\n",
    "\n",
    "cons = sma + saft + oe_cons\n",
    "\n",
    "hourly_price = data['Day Ahead (EUR/MWh)'] / 1000      # time series with electricity spot price\n",
    "\n",
    "# network tariff\n",
    "net_charge = 0.04257    # eur/kWh\n",
    "\n",
    "# displacements to be run:\n",
    "#   - Mar 21st, 2022 - init_disp = 385\n",
    "#   - Jun 20th, 2022 - init_disp = 476\n",
    "#   - Sep 19th, 2022 - init_disp = 567\n",
    "#   - Dec 19th, 2022 - init_disp = 658\n",
    "init_disp = 0 # no of days from march 1st, 2021 initial time step is desired\n",
    "\n",
    "init = 0 + init_disp * 24\n",
    "n = len(cons)\n",
    "\n",
    "# data for optimization\n",
    "load = np.array(cons[init:init+n])\n",
    "price = np.array(hourly_price[init:init+n])\n",
    "\n"
   ]
  },
  {
   "cell_type": "code",
   "execution_count": 16,
   "metadata": {},
   "outputs": [
    {
     "name": "stdout",
     "output_type": "stream",
     "text": [
      "Optimal\n",
      "~~~~~~~~~~~~~~~\n",
      "Installation summary\n",
      "Minimum cost of electricity:  8495985.7€\n"
     ]
    }
   ],
   "source": [
    "# create prob\n",
    "prob = LpProblem('GridPVBatt', LpMinimize)\n",
    "\n",
    "# dec vars\n",
    "# energy from grid\n",
    "E_G = [LpVariable('E_G_{}'.format(i), 0, None) for i in range(n)]\n",
    "\n",
    "# obj function: min total elec cost \n",
    "# - assume price = 0 for pv electricity\n",
    "# - assume price = deg_price per kWh charge/discharged\n",
    "# - assume price of curtailment = spot price (not realistic)\n",
    "# - assume price of sold energy from batt = spot price\n",
    "# - assume price of sold energy from batt = spot price\n",
    "prob += lpSum([  E_G[t] *           (price[t] + net_charge)] \n",
    "               for t in range(n))\n",
    "\n",
    "# constraints\n",
    "\n",
    "for t in range(0, n):\n",
    "\n",
    "    # power balance\n",
    "    prob += E_G[t] == load[t]\n",
    "\n",
    "\n",
    "# solve\n",
    "status = prob.solve()\n",
    "print(LpStatus[status])\n",
    "\n",
    "# make records to prep df\n",
    "res = []\n",
    "for t in range(n):\n",
    "    record = {  'Hour': t,\n",
    "                'Load': load[t],\n",
    "                # 'Spot price': price[t],\n",
    "                'Energy from grid': E_G[t].varValue,\n",
    "    }\n",
    "    res.append(record)\n",
    "\n",
    "df = pd.DataFrame.from_records(res)\n",
    "df.set_index('Hour', inplace=True)\n",
    "df = df.round(2)\n",
    "# print(df.to_string())\n",
    "df.to_csv('00-results.csv', encoding='utf-8')\n",
    "\n",
    "print(f'~~~~~~~~~~~~~~~\\nInstallation summary')\n",
    "print(f'Minimum cost of electricity: {pulp.value(prob.objective) : 0.1f}€')\n",
    "\n",
    "# df.plot(figsize=[15,5])\n",
    "# plt.show()"
   ]
  },
  {
   "cell_type": "code",
   "execution_count": null,
   "metadata": {},
   "outputs": [],
   "source": []
  }
 ],
 "metadata": {
  "kernelspec": {
   "display_name": "Python 3",
   "language": "python",
   "name": "python3"
  },
  "language_info": {
   "codemirror_mode": {
    "name": "ipython",
    "version": 3
   },
   "file_extension": ".py",
   "mimetype": "text/x-python",
   "name": "python",
   "nbconvert_exporter": "python",
   "pygments_lexer": "ipython3",
   "version": "3.10.2"
  },
  "orig_nbformat": 4
 },
 "nbformat": 4,
 "nbformat_minor": 2
}
